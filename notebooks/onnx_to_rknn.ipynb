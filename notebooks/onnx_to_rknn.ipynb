{
 "cells": [
  {
   "cell_type": "code",
   "execution_count": 1,
   "id": "53e2e11f",
   "metadata": {},
   "outputs": [
    {
     "data": {
      "text/plain": [
       "'\\nCopyright (c) 2025 NeuralSense AI Private Limited\\nTrading as swatah.ai. All rights reserved.\\nThis file is part of the swatah.ai software stack and is licensed under\\nthe terms defined in the accompanying LICENSE file. Unauthorized copying,\\ndistribution, or modification of this file, via any medium, is strictly prohibited.\\nFor more information, visit: https://swatah.ai\\n'"
      ]
     },
     "execution_count": 1,
     "metadata": {},
     "output_type": "execute_result"
    }
   ],
   "source": [
    "\"\"\"\n",
    "Copyright (c) 2025 NeuralSense AI Private Limited\n",
    "Trading as swatah.ai. All rights reserved.\n",
    "This file is part of the swatah.ai software stack and is licensed under\n",
    "the terms defined in the accompanying LICENSE file. Unauthorized copying,\n",
    "distribution, or modification of this file, via any medium, is strictly prohibited.\n",
    "For more information, visit: https://swatah.ai\n",
    "\"\"\""
   ]
  },
  {
   "cell_type": "code",
   "execution_count": null,
   "id": "9fb97273",
   "metadata": {},
   "outputs": [
    {
     "name": "stdout",
     "output_type": "stream",
     "text": [
      "/bin/bash: line 1: /home/atanu/Documents/swatah/mobilenetv2/venv/bin/pip: cannot execute: required file not found\n"
     ]
    }
   ],
   "source": [
    "# ! pip install rknn-toolkit2"
   ]
  },
  {
   "cell_type": "code",
   "execution_count": 3,
   "id": "1b53881a",
   "metadata": {},
   "outputs": [
    {
     "name": "stdout",
     "output_type": "stream",
     "text": [
      "/home/atanu/Documents/swatah/mobilenetv2\n"
     ]
    }
   ],
   "source": [
    "%cd .."
   ]
  },
  {
   "cell_type": "code",
   "execution_count": null,
   "id": "a8d036f7",
   "metadata": {},
   "outputs": [],
   "source": [
    "from rknn.api import RKNN\n",
    "\n",
    "rknn = RKNN()\n",
    "\n",
    "rknn.config(\n",
    "    mean_values=[[0.485, 0.456, 0.406]],\n",
    "    std_values=[[0.229, 0.224, 0.225]],\n",
    "    target_platform='rk3588',\n",
    ")\n",
    "\n",
    "rknn.load_onnx(model='models/mobilenetv2.onnx', inputs=['input'],  input_size_list=[[1, 3, 224, 224]])\n",
    "\n",
    "rknn.build(do_quantization=True, dataset='dataset.txt')\n",
    "\n",
    "rknn.export_rknn('models/mobilenetv2.rknn')\n",
    "\n",
    "rknn.release()"
   ]
  },
  {
   "cell_type": "code",
   "execution_count": null,
   "id": "2345e053",
   "metadata": {},
   "outputs": [],
   "source": []
  }
 ],
 "metadata": {
  "kernelspec": {
   "display_name": "venv",
   "language": "python",
   "name": "python3"
  },
  "language_info": {
   "codemirror_mode": {
    "name": "ipython",
    "version": 3
   },
   "file_extension": ".py",
   "mimetype": "text/x-python",
   "name": "python",
   "nbconvert_exporter": "python",
   "pygments_lexer": "ipython3",
   "version": "3.12.3"
  }
 },
 "nbformat": 4,
 "nbformat_minor": 5
}
