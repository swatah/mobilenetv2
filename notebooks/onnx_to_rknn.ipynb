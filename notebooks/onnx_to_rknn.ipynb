{
 "cells": [
  {
   "cell_type": "code",
   "execution_count": 1,
   "id": "53e2e11f",
   "metadata": {},
   "outputs": [
    {
     "data": {
      "text/plain": [
       "'\\nCopyright (c) 2025 NeuralSense AI Private Limited\\nTrading as swatah.ai. All rights reserved.\\nThis file is part of the swatah.ai software stack and is licensed under\\nthe terms defined in the accompanying LICENSE file. Unauthorized copying,\\ndistribution, or modification of this file, via any medium, is strictly prohibited.\\nFor more information, visit: https://swatah.ai\\n'"
      ]
     },
     "execution_count": 1,
     "metadata": {},
     "output_type": "execute_result"
    }
   ],
   "source": [
    "\"\"\"\n",
    "Copyright (c) 2025 NeuralSense AI Private Limited\n",
    "Trading as swatah.ai. All rights reserved.\n",
    "This file is part of the swatah.ai software stack and is licensed under\n",
    "the terms defined in the accompanying LICENSE file. Unauthorized copying,\n",
    "distribution, or modification of this file, via any medium, is strictly prohibited.\n",
    "For more information, visit: https://swatah.ai\n",
    "\"\"\""
   ]
  },
  {
   "cell_type": "code",
   "execution_count": 2,
   "id": "1b53881a",
   "metadata": {},
   "outputs": [
    {
     "name": "stdout",
     "output_type": "stream",
     "text": [
      "/home/radxa/dev/mobilenetv2\n"
     ]
    }
   ],
   "source": [
    "%cd .."
   ]
  },
  {
   "cell_type": "code",
   "execution_count": 3,
   "id": "9fb97273",
   "metadata": {},
   "outputs": [],
   "source": [
    "# ! pip install rknn-toolkit2"
   ]
  },
  {
   "cell_type": "code",
   "execution_count": 4,
   "id": "a8d036f7",
   "metadata": {},
   "outputs": [
    {
     "name": "stderr",
     "output_type": "stream",
     "text": [
      "I rknn-toolkit2 version: 2.3.2\n",
      "\u001b[1;33mW\u001b[0m \u001b[1;33mload_onnx: If you don't need to crop the model, don't set 'inputs'/'input_size_list'/'outputs'!\u001b[0m\n",
      "I Loading : 100%|██████████████████████████████████████████████| 106/106 [00:00<00:00, 45693.34it/s]\n",
      "I OpFusing 1 :  95%|███████████████████████████████████████████▋  | 95/100 [00:00<00:00, 431.59it/s]"
     ]
    },
    {
     "name": "stdout",
     "output_type": "stream",
     "text": [
      "\n"
     ]
    },
    {
     "name": "stderr",
     "output_type": "stream",
     "text": [
      "I OpFusing 0 :  98%|██████████████████████████████████████████████ | 98/100 [00:01<00:00, 76.96it/s]"
     ]
    },
    {
     "name": "stdout",
     "output_type": "stream",
     "text": [
      "\n"
     ]
    },
    {
     "name": "stderr",
     "output_type": "stream",
     "text": [
      "I OpFusing 1 :   0%|                                                        | 0/100 [00:01<?, ?it/s]"
     ]
    },
    {
     "name": "stdout",
     "output_type": "stream",
     "text": [
      "\n",
      "\n",
      "\n",
      "\n"
     ]
    },
    {
     "name": "stderr",
     "output_type": "stream",
     "text": [
      "I OpFusing 2 : 100%|██████████████████████████████████████████████| 100/100 [00:01<00:00, 60.04it/s]"
     ]
    },
    {
     "name": "stdout",
     "output_type": "stream",
     "text": [
      "\n"
     ]
    },
    {
     "name": "stderr",
     "output_type": "stream",
     "text": [
      "I OpFusing 2 : 100%|██████████████████████████████████████████████| 100/100 [00:02<00:00, 46.96it/s]\n",
      "\u001b[1;33mW\u001b[0m \u001b[1;33mbuild: found outlier value, this may affect quantization accuracy\n",
      "                        const name          abs_mean    abs_std     outlier value\n",
      "                        onnx::Conv_577      0.39        0.51        14.798      \n",
      "                        onnx::Conv_676      0.39        0.51        -12.138     \u001b[0m\n",
      "I GraphPreparing : 100%|█████████████████████████████████████████| 100/100 [00:00<00:00, 324.28it/s]\n",
      "I Quantizating : 100%|███████████████████████████████████████████| 100/100 [00:00<00:00, 324.31it/s]\n",
      "\u001b[1;33mW\u001b[0m \u001b[1;33mbuild: The default input dtype of 'input' is changed from 'float32' to 'int8' in rknn model for performance!\n",
      "                       Please take care of this change when deploy rknn model with Runtime API!\u001b[0m\n",
      "\u001b[1;33mW\u001b[0m \u001b[1;33mbuild: The default output dtype of 'output' is changed from 'float32' to 'int8' in rknn model for performance!\n",
      "                      Please take care of this change when deploy rknn model with Runtime API!\u001b[0m\n",
      "I rknn building ...\n",
      "E RKNN: [09:38:36.773] Unkown op target: 0\n",
      "I rknn building done.\n"
     ]
    }
   ],
   "source": [
    "from rknn.api import RKNN\n",
    "\n",
    "rknn = RKNN()\n",
    "\n",
    "rknn.config(\n",
    "    mean_values=[[0.485 * 255, 0.456 * 255, 0.406 * 255]],\n",
    "    std_values=[[0.229 * 255, 0.224 * 255, 0.225 * 255]],\n",
    "    target_platform='rk3588',\n",
    ")\n",
    "\n",
    "rknn.load_onnx(model='models/mobilenetv2.onnx', inputs=['input'],  input_size_list=[[1, 3, 224, 224]])\n",
    "\n",
    "rknn.build(do_quantization=True, dataset='dataset.txt')\n",
    "\n",
    "rknn.export_rknn('models/mobilenetv2.rknn')\n",
    "\n",
    "rknn.release()"
   ]
  }
 ],
 "metadata": {
  "kernelspec": {
   "display_name": "venv",
   "language": "python",
   "name": "python3"
  },
  "language_info": {
   "codemirror_mode": {
    "name": "ipython",
    "version": 3
   },
   "file_extension": ".py",
   "mimetype": "text/x-python",
   "name": "python",
   "nbconvert_exporter": "python",
   "pygments_lexer": "ipython3",
   "version": "3.11.2"
  }
 },
 "nbformat": 4,
 "nbformat_minor": 5
}
