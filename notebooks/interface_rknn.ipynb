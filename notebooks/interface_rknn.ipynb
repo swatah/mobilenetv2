{
 "cells": [
  {
   "cell_type": "code",
   "execution_count": 1,
   "id": "5b1be6d7",
   "metadata": {},
   "outputs": [
    {
     "data": {
      "text/plain": [
       "'\\nCopyright (c) 2025 NeuralSense AI Private Limited\\nTrading as swatah.ai. All rights reserved.\\nThis file is part of the swatah.ai software stack and is licensed under\\nthe terms defined in the accompanying LICENSE file. Unauthorized copying,\\ndistribution, or modification of this file, via any medium, is strictly prohibited.\\nFor more information, visit: https://swatah.ai\\n'"
      ]
     },
     "execution_count": 1,
     "metadata": {},
     "output_type": "execute_result"
    }
   ],
   "source": [
    "\"\"\"\n",
    "Copyright (c) 2025 NeuralSense AI Private Limited\n",
    "Trading as swatah.ai. All rights reserved.\n",
    "This file is part of the swatah.ai software stack and is licensed under\n",
    "the terms defined in the accompanying LICENSE file. Unauthorized copying,\n",
    "distribution, or modification of this file, via any medium, is strictly prohibited.\n",
    "For more information, visit: https://swatah.ai\n",
    "\"\"\""
   ]
  },
  {
   "cell_type": "code",
   "execution_count": 2,
   "id": "541b7f9c",
   "metadata": {},
   "outputs": [
    {
     "name": "stdout",
     "output_type": "stream",
     "text": [
      "/home/radxa/dev/mobilenetv2\n"
     ]
    }
   ],
   "source": [
    "%cd .."
   ]
  },
  {
   "cell_type": "code",
   "execution_count": 3,
   "id": "1e6d56e6",
   "metadata": {},
   "outputs": [],
   "source": [
    "# ! pip install rknn-toolkit2"
   ]
  },
  {
   "cell_type": "code",
   "execution_count": 4,
   "id": "92e7a600",
   "metadata": {},
   "outputs": [],
   "source": [
    "import numpy as np\n",
    "from rknn.api import RKNN\n",
    "import cv2"
   ]
  },
  {
   "cell_type": "code",
   "execution_count": 5,
   "id": "8796c4ab",
   "metadata": {},
   "outputs": [],
   "source": [
    "def preprocess_image(image_path, image_size=(224, 224)):\n",
    "    img = cv2.imread(image_path)\n",
    "    img = cv2.resize(img, image_size)\n",
    "    img = np.expand_dims(img, 0)\n",
    "    return img"
   ]
  },
  {
   "cell_type": "code",
   "execution_count": 6,
   "id": "75d21cad",
   "metadata": {},
   "outputs": [
    {
     "name": "stderr",
     "output_type": "stream",
     "text": [
      "I rknn-toolkit2 version: 2.3.2\n",
      "I target set by user is: rk3588\n",
      "\u001b[1;33mW\u001b[0m \u001b[1;33minference: The 'data_format' is not set, and its default value is 'nhwc'!\u001b[0m\n"
     ]
    }
   ],
   "source": [
    "rknn = RKNN()\n",
    "\n",
    "rknn.load_rknn('models/mobilenetv2.rknn')\n",
    "rknn.init_runtime(target=\"rk3588\")\n",
    "\n",
    "img_path = \"images/Koala.jpg\"\n",
    "img = preprocess_image(img_path)\n",
    "\n",
    "outputs = rknn.inference(inputs=[img])\n",
    "\n",
    "rknn.release()"
   ]
  },
  {
   "cell_type": "code",
   "execution_count": 7,
   "id": "a47bb15c",
   "metadata": {},
   "outputs": [
    {
     "name": "stdout",
     "output_type": "stream",
     "text": [
      "Predicted class: 105\n",
      "Predicted class name: koala\n"
     ]
    }
   ],
   "source": [
    "predicted_class = np.argmax(outputs[0])\n",
    "print(f'Predicted class: {predicted_class}')\n",
    "\n",
    "import urllib.request\n",
    "\n",
    "LABELS_URL = \"https://raw.githubusercontent.com/pytorch/hub/master/imagenet_classes.txt\"\n",
    "class_names = urllib.request.urlopen(LABELS_URL).read().decode(\"utf-8\").split(\"\\n\")\n",
    "\n",
    "print(f\"Predicted class name: {class_names[predicted_class]}\")"
   ]
  }
 ],
 "metadata": {
  "kernelspec": {
   "display_name": "venv",
   "language": "python",
   "name": "python3"
  },
  "language_info": {
   "codemirror_mode": {
    "name": "ipython",
    "version": 3
   },
   "file_extension": ".py",
   "mimetype": "text/x-python",
   "name": "python",
   "nbconvert_exporter": "python",
   "pygments_lexer": "ipython3",
   "version": "3.11.2"
  }
 },
 "nbformat": 4,
 "nbformat_minor": 5
}
